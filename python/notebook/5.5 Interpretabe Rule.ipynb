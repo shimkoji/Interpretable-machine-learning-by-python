{
 "cells": [
  {
   "cell_type": "code",
   "execution_count": 26,
   "metadata": {},
   "outputs": [],
   "source": [
    "# gonna be deleted"
   ]
  },
  {
   "cell_type": "code",
   "execution_count": 1,
   "metadata": {},
   "outputs": [],
   "source": [
    "from pathlib import Path\n",
    "from dataclasses import dataclass\n",
    "import sys\n",
    "\n",
    "import pandas as pd\n",
    "import numpy as np\n",
    "import matplotlib.pyplot as plt\n",
    "\n",
    "\n",
    "@dataclass\n",
    "class Config:\n",
    "    REPO_ROOT: Path = Path(\"../../\")\n",
    "    data_dir: Path = REPO_ROOT / \"data\"\n",
    "\n",
    "\n",
    "config = Config()\n",
    "\n",
    "sys.path.append(str(config.REPO_ROOT))"
   ]
  },
  {
   "cell_type": "code",
   "execution_count": 3,
   "metadata": {},
   "outputs": [],
   "source": [
    "from python.src.preprocess import (\n",
    "    preprocess_rfcc,\n",
    ")\n",
    "\n",
    "df_rfcc = pd.read_csv(config.data_dir / \"risk_factors_cervical_cancer.csv\")\n",
    "df_rfcc_processed = preprocess_rfcc(df=df_rfcc)\n",
    "assert df_rfcc.shape[0] == df_rfcc_processed.shape[0]"
   ]
  },
  {
   "cell_type": "code",
   "execution_count": 5,
   "metadata": {},
   "outputs": [],
   "source": [
    "import pandas as pd\n",
    "import numpy as np\n",
    "from sklearn.preprocessing import KBinsDiscretizer\n",
    "from sklearn.dummy import DummyClassifier"
   ]
  },
  {
   "cell_type": "code",
   "execution_count": 25,
   "metadata": {},
   "outputs": [],
   "source": [
    "# oneR\n",
    "# https://www.kaggle.com/code/prabhat12/oner-zeror"
   ]
  },
  {
   "cell_type": "code",
   "execution_count": 8,
   "metadata": {},
   "outputs": [
    {
     "data": {
      "text/plain": [
       "Index(['Age', 'Number of sexual partners', 'First sexual intercourse',\n",
       "       'Num of pregnancies', 'Smokes', 'Smokes (years)',\n",
       "       'Hormonal Contraceptives', 'Hormonal Contraceptives (years)', 'IUD',\n",
       "       'IUD (years)', 'STDs', 'STDs (number)', 'STDs: Number of diagnosis',\n",
       "       'STDs: Time since first diagnosis', 'STDs: Time since last diagnosis',\n",
       "       'Biopsy'],\n",
       "      dtype='object')"
      ]
     },
     "execution_count": 8,
     "metadata": {},
     "output_type": "execute_result"
    }
   ],
   "source": [
    "df_rfcc_processed.columns"
   ]
  },
  {
   "cell_type": "code",
   "execution_count": 21,
   "metadata": {},
   "outputs": [
    {
     "name": "stdout",
     "output_type": "stream",
     "text": [
      "Best Feature: Age\n",
      "  Age = 0  ->  prediction: Healthy\n",
      "  Age = 1  ->  prediction: Healthy\n",
      "  Age = 2  ->  prediction: Healthy\n",
      "  Age = 3  ->  prediction: Healthy\n",
      "   Age prediction\n",
      "0  0.0    Healthy\n",
      "1  1.0    Healthy\n",
      "2  2.0    Healthy\n",
      "3  3.0    Healthy\n"
     ]
    },
    {
     "name": "stderr",
     "output_type": "stream",
     "text": [
      "/Users/shim-kojio/Documents/ramble/Interpretable_machine_learning_by_python/.venv/lib/python3.11/site-packages/sklearn/preprocessing/_discretization.py:306: UserWarning: Bins whose width are too small (i.e., <= 1e-8) in feature 0 are removed. Consider decreasing the number of bins.\n",
      "  warnings.warn(\n",
      "/Users/shim-kojio/Documents/ramble/Interpretable_machine_learning_by_python/.venv/lib/python3.11/site-packages/sklearn/preprocessing/_discretization.py:306: UserWarning: Bins whose width are too small (i.e., <= 1e-8) in feature 1 are removed. Consider decreasing the number of bins.\n",
      "  warnings.warn(\n",
      "/Users/shim-kojio/Documents/ramble/Interpretable_machine_learning_by_python/.venv/lib/python3.11/site-packages/sklearn/preprocessing/_discretization.py:306: UserWarning: Bins whose width are too small (i.e., <= 1e-8) in feature 2 are removed. Consider decreasing the number of bins.\n",
      "  warnings.warn(\n",
      "/Users/shim-kojio/Documents/ramble/Interpretable_machine_learning_by_python/.venv/lib/python3.11/site-packages/sklearn/preprocessing/_discretization.py:306: UserWarning: Bins whose width are too small (i.e., <= 1e-8) in feature 3 are removed. Consider decreasing the number of bins.\n",
      "  warnings.warn(\n",
      "/Users/shim-kojio/Documents/ramble/Interpretable_machine_learning_by_python/.venv/lib/python3.11/site-packages/sklearn/preprocessing/_discretization.py:262: UserWarning: Feature 4 is constant and will be replaced with 0.\n",
      "  warnings.warn(\n",
      "/Users/shim-kojio/Documents/ramble/Interpretable_machine_learning_by_python/.venv/lib/python3.11/site-packages/sklearn/preprocessing/_discretization.py:306: UserWarning: Bins whose width are too small (i.e., <= 1e-8) in feature 5 are removed. Consider decreasing the number of bins.\n",
      "  warnings.warn(\n",
      "/Users/shim-kojio/Documents/ramble/Interpretable_machine_learning_by_python/.venv/lib/python3.11/site-packages/sklearn/preprocessing/_discretization.py:262: UserWarning: Feature 6 is constant and will be replaced with 0.\n",
      "  warnings.warn(\n",
      "/Users/shim-kojio/Documents/ramble/Interpretable_machine_learning_by_python/.venv/lib/python3.11/site-packages/sklearn/preprocessing/_discretization.py:262: UserWarning: Feature 7 is constant and will be replaced with 0.\n",
      "  warnings.warn(\n"
     ]
    }
   ],
   "source": [
    "# 連続値特徴量の量子化\n",
    "continuous_features = [\n",
    "    \"Age\",\n",
    "    \"Number of sexual partners\",\n",
    "    \"First sexual intercourse\",\n",
    "    \"Num of pregnancies\",\n",
    "    \"Smokes (years)\",\n",
    "    \"Hormonal Contraceptives (years)\",\n",
    "    \"IUD (years)\",\n",
    "    \"STDs (number)\",\n",
    "]\n",
    "discretizer = KBinsDiscretizer(n_bins=5, encode=\"ordinal\", strategy=\"quantile\")\n",
    "df_rfcc_processed[continuous_features] = discretizer.fit_transform(\n",
    "    df_rfcc_processed[continuous_features]\n",
    ")\n",
    "\n",
    "\n",
    "# OneRの実装\n",
    "def oneR(X, y):\n",
    "    best_feature = None\n",
    "    best_accuracy = 0\n",
    "    best_rules = {}\n",
    "\n",
    "    for feature in X.columns:\n",
    "        rules = {}\n",
    "        for value in np.unique(X[feature]):\n",
    "            # 各値に対して最も頻度の高いクラスを予測値とするルールを作成\n",
    "            most_frequent_class = y[X[feature] == value].mode()[0]\n",
    "            rules[value] = most_frequent_class\n",
    "\n",
    "        # ダミークラシファイアで精度を計算 (OneRでは単純なルールベースの分類器を使用)\n",
    "        dummy_clf = DummyClassifier(\n",
    "            strategy=\"constant\", constant=rules[value]\n",
    "        )  # valueの最後の値を使う\n",
    "        dummy_clf.fit(X[[feature]], y)  # featureで学習させる\n",
    "        accuracy = dummy_clf.score(X[[feature]], y)\n",
    "\n",
    "        if accuracy > best_accuracy:\n",
    "            best_accuracy = accuracy\n",
    "            best_feature = feature\n",
    "            best_rules = rules\n",
    "\n",
    "    return best_feature, best_rules\n",
    "\n",
    "\n",
    "# OneRを適用\n",
    "X = df_rfcc_processed.drop(\"Biopsy\", axis=1)\n",
    "y = df_rfcc_processed[\"Biopsy\"]\n",
    "best_feature, best_rules = oneR(X, y)\n",
    "\n",
    "# 結果を表示\n",
    "print(f\"Best Feature: {best_feature}\")\n",
    "for value, prediction in best_rules.items():\n",
    "    print(f\"  {best_feature} = {value:.0f}  ->  prediction: {prediction}\")\n",
    "\n",
    "\n",
    "# 結果をデータフレームに変換 (表示用)\n",
    "rules_df = pd.DataFrame(\n",
    "    {best_feature: best_rules.keys(), \"prediction\": best_rules.values()}\n",
    ")\n",
    "print(rules_df)"
   ]
  },
  {
   "cell_type": "code",
   "execution_count": 20,
   "metadata": {},
   "outputs": [
    {
     "name": "stdout",
     "output_type": "stream",
     "text": [
      "Selected Feature: STDs: Time since first diagnosis\n",
      "IF STDs: Time since first diagnosis == '1.0' THEN Biopsy = 'Healthy'\n",
      "IF STDs: Time since first diagnosis == '10.0' THEN Biopsy = 'Healthy'\n",
      "IF STDs: Time since first diagnosis == '11.0' THEN Biopsy = 'Healthy'\n",
      "IF STDs: Time since first diagnosis == '12.0' THEN Biopsy = 'Healthy'\n",
      "IF STDs: Time since first diagnosis == '15.0' THEN Biopsy = 'Cancer'\n",
      "IF STDs: Time since first diagnosis == '16.0' THEN Biopsy = 'Healthy'\n",
      "IF STDs: Time since first diagnosis == '18.0' THEN Biopsy = 'Healthy'\n",
      "IF STDs: Time since first diagnosis == '19.0' THEN Biopsy = 'Healthy'\n",
      "IF STDs: Time since first diagnosis == '2.0' THEN Biopsy = 'Healthy'\n",
      "IF STDs: Time since first diagnosis == '21.0' THEN Biopsy = 'Healthy'\n",
      "IF STDs: Time since first diagnosis == '22.0' THEN Biopsy = 'Healthy'\n",
      "IF STDs: Time since first diagnosis == '3.0' THEN Biopsy = 'Healthy'\n",
      "IF STDs: Time since first diagnosis == '4.0' THEN Biopsy = 'Healthy'\n",
      "IF STDs: Time since first diagnosis == '5.0' THEN Biopsy = 'Healthy'\n",
      "IF STDs: Time since first diagnosis == '6.0' THEN Biopsy = 'Healthy'\n",
      "IF STDs: Time since first diagnosis == '7.0' THEN Biopsy = 'Healthy'\n",
      "IF STDs: Time since first diagnosis == '8.0' THEN Biopsy = 'Healthy'\n",
      "IF STDs: Time since first diagnosis == '9.0' THEN Biopsy = 'Healthy'\n"
     ]
    },
    {
     "name": "stderr",
     "output_type": "stream",
     "text": [
      "/Users/shim-kojio/Documents/ramble/Interpretable_machine_learning_by_python/.venv/lib/python3.11/site-packages/sklearn/preprocessing/_discretization.py:306: UserWarning: Bins whose width are too small (i.e., <= 1e-8) in feature 0 are removed. Consider decreasing the number of bins.\n",
      "  warnings.warn(\n",
      "/Users/shim-kojio/Documents/ramble/Interpretable_machine_learning_by_python/.venv/lib/python3.11/site-packages/sklearn/preprocessing/_discretization.py:306: UserWarning: Bins whose width are too small (i.e., <= 1e-8) in feature 0 are removed. Consider decreasing the number of bins.\n",
      "  warnings.warn(\n",
      "/Users/shim-kojio/Documents/ramble/Interpretable_machine_learning_by_python/.venv/lib/python3.11/site-packages/sklearn/preprocessing/_discretization.py:306: UserWarning: Bins whose width are too small (i.e., <= 1e-8) in feature 0 are removed. Consider decreasing the number of bins.\n",
      "  warnings.warn(\n",
      "/Users/shim-kojio/Documents/ramble/Interpretable_machine_learning_by_python/.venv/lib/python3.11/site-packages/sklearn/preprocessing/_discretization.py:306: UserWarning: Bins whose width are too small (i.e., <= 1e-8) in feature 0 are removed. Consider decreasing the number of bins.\n",
      "  warnings.warn(\n",
      "/Users/shim-kojio/Documents/ramble/Interpretable_machine_learning_by_python/.venv/lib/python3.11/site-packages/sklearn/preprocessing/_discretization.py:262: UserWarning: Feature 0 is constant and will be replaced with 0.\n",
      "  warnings.warn(\n",
      "/Users/shim-kojio/Documents/ramble/Interpretable_machine_learning_by_python/.venv/lib/python3.11/site-packages/sklearn/preprocessing/_discretization.py:306: UserWarning: Bins whose width are too small (i.e., <= 1e-8) in feature 0 are removed. Consider decreasing the number of bins.\n",
      "  warnings.warn(\n",
      "/Users/shim-kojio/Documents/ramble/Interpretable_machine_learning_by_python/.venv/lib/python3.11/site-packages/sklearn/preprocessing/_discretization.py:262: UserWarning: Feature 0 is constant and will be replaced with 0.\n",
      "  warnings.warn(\n",
      "/Users/shim-kojio/Documents/ramble/Interpretable_machine_learning_by_python/.venv/lib/python3.11/site-packages/sklearn/preprocessing/_discretization.py:262: UserWarning: Feature 0 is constant and will be replaced with 0.\n",
      "  warnings.warn(\n",
      "/Users/shim-kojio/Documents/ramble/Interpretable_machine_learning_by_python/.venv/lib/python3.11/site-packages/sklearn/preprocessing/_discretization.py:306: UserWarning: Bins whose width are too small (i.e., <= 1e-8) in feature 0 are removed. Consider decreasing the number of bins.\n",
      "  warnings.warn(\n"
     ]
    }
   ],
   "source": [
    "import pandas as pd\n",
    "import numpy as np\n",
    "from sklearn.preprocessing import KBinsDiscretizer\n",
    "\n",
    "\n",
    "def oner(df, target_col):\n",
    "    \"\"\"\n",
    "    OneRアルゴリズムの実装\n",
    "\n",
    "    Args:\n",
    "        df: データフレーム\n",
    "        target_col: 目的変数のカラム名\n",
    "\n",
    "    Returns:\n",
    "        dict: 選択された特徴量名と、ルール(特徴量値: 予測値)の辞書\n",
    "             特徴量が数値の場合、ルールは(しきい値: 予測値)の辞書になる\n",
    "    \"\"\"\n",
    "\n",
    "    y = df[target_col]\n",
    "    best_feature = None\n",
    "    best_error = float(\"inf\")\n",
    "    best_rules = {}\n",
    "    best_est = None  # 数値特徴量の離散化器を保存\n",
    "\n",
    "    for feature in df.columns:\n",
    "        if feature == target_col:\n",
    "            continue\n",
    "\n",
    "        # 連続値特徴量の離散化 (5分位数を使用)\n",
    "        if pd.api.types.is_numeric_dtype(df[feature]):\n",
    "            est = KBinsDiscretizer(n_bins=5, encode=\"ordinal\", strategy=\"quantile\")\n",
    "            x_discretized = est.fit_transform(df[[feature]])\n",
    "            x_discretized = pd.Series(\n",
    "                x_discretized.flatten(), name=feature, index=df.index\n",
    "            ).astype(int)  # 整数に変換\n",
    "        else:\n",
    "            x_discretized = df[feature]\n",
    "            est = None\n",
    "\n",
    "        # クロス集計表の作成\n",
    "        cross_table = pd.crosstab(x_discretized, y)\n",
    "\n",
    "        # ルールの生成と誤り率の計算\n",
    "        rules = {}\n",
    "        total_error = 0\n",
    "        for value in cross_table.index:\n",
    "            prediction = cross_table.loc[\n",
    "                value\n",
    "            ].idxmax()  # 最も頻度の高いクラスを予測値とする\n",
    "            rules[value] = prediction\n",
    "            total_error += (\n",
    "                cross_table.loc[value].sum() - cross_table.loc[value, prediction]\n",
    "            )\n",
    "\n",
    "        # 最良特徴量の更新\n",
    "        if total_error < best_error:\n",
    "            best_error = total_error\n",
    "            best_feature = feature\n",
    "            best_rules = rules\n",
    "            best_est = est\n",
    "\n",
    "    # 数値特徴量の場合、ルールをしきい値で表現するように変換\n",
    "    if best_est is not None:\n",
    "        new_rules = {}\n",
    "        for i, threshold in enumerate(\n",
    "            best_est.bin_edges_[0][1:]\n",
    "        ):  # 各binの上限値をしきい値とする\n",
    "            new_rules[threshold] = best_rules[i]  # 対応する予測値を格納\n",
    "        best_rules = new_rules\n",
    "\n",
    "    return {\"feature\": best_feature, \"rules\": best_rules, \"estimator\": best_est}\n",
    "\n",
    "\n",
    "# df_rfcc_processed を使用したOneRの実行例\n",
    "target_column = \"Biopsy\"\n",
    "result = oner(df_rfcc_processed, target_column)\n",
    "\n",
    "# 結果の表示\n",
    "print(f\"Selected Feature: {result['feature']}\")\n",
    "for value, prediction in result[\"rules\"].items():\n",
    "    if result[\"estimator\"] is not None:\n",
    "        print(\n",
    "            f\"IF {result['feature']} <= {value:.2f} THEN {target_column} = '{prediction}'\"\n",
    "        )\n",
    "    else:\n",
    "        print(\n",
    "            f\"IF {result['feature']} == '{value}' THEN {target_column} = '{prediction}'\"\n",
    "        )"
   ]
  },
  {
   "cell_type": "code",
   "execution_count": 22,
   "metadata": {},
   "outputs": [
    {
     "name": "stdout",
     "output_type": "stream",
     "text": [
      "          Age prediction\n",
      "0  [0.0, 1.0)    Healthy\n",
      "1  [1.0, 2.0)    Healthy\n",
      "2  [2.0, 3.0)    Healthy\n",
      "3  [3.0, 4.0)    Healthy\n"
     ]
    }
   ],
   "source": [
    "# 結果をデータフレームに変換 (表示用、変更)\n",
    "rules_df = pd.DataFrame(\n",
    "    {best_feature: best_rules.keys(), \"prediction\": best_rules.values()}\n",
    ")\n",
    "\n",
    "# 表示用にbinsの範囲を文字列で表現\n",
    "if best_feature in continuous_features:  # 量子化された特徴量の場合\n",
    "    bins = discretizer.bin_edges_[continuous_features.index(best_feature)]\n",
    "    rules_df[best_feature] = pd.cut(\n",
    "        rules_df[best_feature],\n",
    "        bins=bins,\n",
    "        right=False,\n",
    "        include_lowest=True,\n",
    "        duplicates=\"drop\",\n",
    "    )\n",
    "\n",
    "\n",
    "print(rules_df)"
   ]
  },
  {
   "cell_type": "code",
   "execution_count": null,
   "metadata": {},
   "outputs": [],
   "source": []
  }
 ],
 "metadata": {
  "kernelspec": {
   "display_name": ".venv",
   "language": "python",
   "name": "python3"
  },
  "language_info": {
   "codemirror_mode": {
    "name": "ipython",
    "version": 3
   },
   "file_extension": ".py",
   "mimetype": "text/x-python",
   "name": "python",
   "nbconvert_exporter": "python",
   "pygments_lexer": "ipython3",
   "version": "3.9.6"
  }
 },
 "nbformat": 4,
 "nbformat_minor": 2
}
